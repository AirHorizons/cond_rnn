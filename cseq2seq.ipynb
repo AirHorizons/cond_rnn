{
 "cells": [
  {
   "cell_type": "code",
   "execution_count": 1,
   "id": "ed6f135e",
   "metadata": {},
   "outputs": [],
   "source": [
    "import numpy as np\n",
    "from examples.single_cond_example import create_conditions\n",
    "from tensorflow.keras import Input, Model\n",
    "from tensorflow.keras import Sequential\n",
    "from tensorflow.keras.layers import Dense, LSTM\n",
    "\n",
    "from cond_rnn import ConditionalRNN"
   ]
  },
  {
   "cell_type": "code",
   "execution_count": 3,
   "id": "d4d80456",
   "metadata": {},
   "outputs": [],
   "source": [
    "import os, sys"
   ]
  },
  {
   "cell_type": "code",
   "execution_count": 17,
   "id": "bbc08b85",
   "metadata": {},
   "outputs": [],
   "source": [
    "def get_longest_file():\n",
    "    train_dir = './data/train/'\n",
    "    lens = []\n",
    "    longest_len = 0\n",
    "    for fn in os.listdir(train_dir):\n",
    "        with open(train_dir + fn) as f:\n",
    "            lens.append(len(f.readlines()))\n",
    "    return sorted(lens)[30:40]"
   ]
  },
  {
   "cell_type": "code",
   "execution_count": 12,
   "id": "59af582d",
   "metadata": {},
   "outputs": [
    {
     "name": "stdout",
     "output_type": "stream",
     "text": [
      "298_SolarJetman_HuntfortheGoldenWarpship_12_13OmebruGameplay.tx1.txt\n"
     ]
    }
   ],
   "source": [
    "# Too long! cut around 1000 words\n",
    "def get_longest_filename():\n",
    "    train_dir = './data/train/'\n",
    "    for fn in os.listdir(train_dir):\n",
    "        with open(train_dir + fn) as f:\n",
    "            if len(f.readlines()) == 133068:\n",
    "                print(fn)\n",
    "get_longest_filename()"
   ]
  },
  {
   "cell_type": "code",
   "execution_count": 5,
   "id": "57a53e3e",
   "metadata": {},
   "outputs": [],
   "source": [
    "NUM_SAMPLES = 10_000\n",
    "TIME_STEPS = get_longest_file()\n",
    "\n",
    "VOCAB_SIZE = 632 # INPUT_DIM?\n",
    "NUM_CELLS = 1024"
   ]
  },
  {
   "cell_type": "code",
   "execution_count": 18,
   "id": "78d5cd9a",
   "metadata": {},
   "outputs": [
    {
     "name": "stdout",
     "output_type": "stream",
     "text": [
      "[22, 23, 23, 23, 24, 24, 24, 24, 25, 25]\n"
     ]
    }
   ],
   "source": [
    "print(get_longest_file())"
   ]
  },
  {
   "cell_type": "markdown",
   "id": "f9221ac1",
   "metadata": {},
   "source": [
    "Import input, output data"
   ]
  },
  {
   "cell_type": "code",
   "execution_count": null,
   "id": "e42bb645",
   "metadata": {},
   "outputs": [],
   "source": []
  }
 ],
 "metadata": {
  "kernelspec": {
   "display_name": "Python 3 (ipykernel)",
   "language": "python",
   "name": "python3"
  },
  "language_info": {
   "codemirror_mode": {
    "name": "ipython",
    "version": 3
   },
   "file_extension": ".py",
   "mimetype": "text/x-python",
   "name": "python",
   "nbconvert_exporter": "python",
   "pygments_lexer": "ipython3",
   "version": "3.9.7"
  }
 },
 "nbformat": 4,
 "nbformat_minor": 5
}
